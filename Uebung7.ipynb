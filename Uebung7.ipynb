{
 "cells": [
  {
   "cell_type": "markdown",
   "metadata": {},
   "source": [
    "# **Übung 7 (Job Shop Scheduling)**"
   ]
  },
  {
   "cell_type": "markdown",
   "metadata": {},
   "source": [
    "One common scheduling problem is the job shop, in which multiple jobs are processed on several machines. Each job consists of a sequence of tasks, which must be performed in a given order, and each task must be processed on a specific machine. For example, the job could be the manufacture of a single consumer item, such as an automobile. The problem is to schedule the tasks on the machines so as to minimize the length of the schedule—the time it takes for all the jobs to be completed."
   ]
  },
  {
   "cell_type": "markdown",
   "metadata": {},
   "source": [
    "## **1) The Job Shop Problem with Google OR-Tools**"
   ]
  },
  {
   "cell_type": "markdown",
   "metadata": {},
   "source": [
    "\n",
    "\n",
    "First, we need a mixed-integer formulation of the Job Shop problem.\n",
    "\n",
    "The following Python solution is directly taken from the Google OR-Tools documentation:\n",
    "\n",
    "https://developers.google.com/optimization/scheduling/job_shop\n",
    "\n",
    "*OR-Tools is an open source software suite for optimization, tuned for tackling the world's toughest problems in vehicle routing, flows, integer and linear programming, and constraint programming.*"
   ]
  },
  {
   "cell_type": "code",
   "execution_count": 1,
   "metadata": {},
   "outputs": [],
   "source": [
    "from __future__ import print_function\n",
    "import collections\n",
    "from ortools.sat.python import cp_model # Import Python wrapper for or-tools CP-SAT solver.\n",
    "\n",
    "def MinimalJobshopSat(jobs):\n",
    "\n",
    "    \"\"\"Minimal jobshop problem.\"\"\"\n",
    "    # Create the model.\n",
    "    model = cp_model.CpModel()\n",
    "\n",
    "    jobs_data = jobs\n",
    "\n",
    "    machines_count = 1 + max(task[0] for job in jobs_data for task in job)\n",
    "    all_machines = range(machines_count)\n",
    "\n",
    "    # Computes horizon dynamically as the sum of all durations.\n",
    "    horizon = sum(task[1] for job in jobs_data for task in job)\n",
    "\n",
    "    # Named tuple to store information about created variables.\n",
    "    task_type = collections.namedtuple('task_type', 'start end interval')\n",
    "    # Named tuple to manipulate solution information.\n",
    "    assigned_task_type = collections.namedtuple('assigned_task_type',\n",
    "                                                'start job index duration')\n",
    "\n",
    "    # Creates job intervals and add to the corresponding machine lists.\n",
    "    all_tasks = {}\n",
    "    machine_to_intervals = collections.defaultdict(list)\n",
    "\n",
    "    for job_id, job in enumerate(jobs_data):\n",
    "        for task_id, task in enumerate(job):\n",
    "            machine = task[0]\n",
    "            duration = task[1]\n",
    "            suffix = '_%i_%i' % (job_id, task_id)\n",
    "            start_var = model.NewIntVar(0, horizon, 'start' + suffix)\n",
    "            end_var = model.NewIntVar(0, horizon, 'end' + suffix)\n",
    "            interval_var = model.NewIntervalVar(start_var, duration, end_var,\n",
    "                                                'interval' + suffix)\n",
    "            all_tasks[job_id, task_id] = task_type(\n",
    "                start=start_var, end=end_var, interval=interval_var)\n",
    "            machine_to_intervals[machine].append(interval_var)\n",
    "\n",
    "    # Create and add disjunctive constraints.\n",
    "    for machine in all_machines:\n",
    "        model.AddNoOverlap(machine_to_intervals[machine])\n",
    "\n",
    "    # Precedences inside a job.\n",
    "    for job_id, job in enumerate(jobs_data):\n",
    "        for task_id in range(len(job) - 1):\n",
    "            model.Add(all_tasks[job_id, task_id +\n",
    "                                1].start >= all_tasks[job_id, task_id].end)\n",
    "\n",
    "    # Makespan objective.\n",
    "    obj_var = model.NewIntVar(0, horizon, 'makespan')\n",
    "    model.AddMaxEquality(obj_var, [\n",
    "        all_tasks[job_id, len(job) - 1].end\n",
    "        for job_id, job in enumerate(jobs_data)\n",
    "    ])\n",
    "    model.Minimize(obj_var)\n",
    "\n",
    "    # Solve model.\n",
    "    solver = cp_model.CpSolver()\n",
    "    status = solver.Solve(model)\n",
    "\n",
    "    if status == cp_model.OPTIMAL:\n",
    "        # Create one list of assigned tasks per machine.\n",
    "        assigned_jobs = collections.defaultdict(list)\n",
    "        for job_id, job in enumerate(jobs_data):\n",
    "            for task_id, task in enumerate(job):\n",
    "                machine = task[0]\n",
    "                assigned_jobs[machine].append(\n",
    "                    assigned_task_type(\n",
    "                        start=solver.Value(all_tasks[job_id, task_id].start),\n",
    "                        job=job_id,\n",
    "                        index=task_id,\n",
    "                        duration=task[1]))\n",
    "\n",
    "        # Create per machine output lines.\n",
    "        output = ''\n",
    "        for machine in all_machines:\n",
    "            # Sort by starting time.\n",
    "            assigned_jobs[machine].sort()\n",
    "            sol_line_tasks = 'Machine ' + str(machine) + ': '\n",
    "            sol_line = '           '\n",
    "\n",
    "            for assigned_task in assigned_jobs[machine]:\n",
    "                name = 'job_%i_%i' % (assigned_task.job, assigned_task.index)\n",
    "                # Add spaces to output to align columns.\n",
    "                sol_line_tasks += '%-10s' % name\n",
    "\n",
    "                start = assigned_task.start\n",
    "                duration = assigned_task.duration\n",
    "                sol_tmp = '[%i,%i]' % (start, start + duration)\n",
    "                # Add spaces to output to align columns.\n",
    "                sol_line += '%-10s' % sol_tmp\n",
    "\n",
    "            sol_line += '\\n'\n",
    "            sol_line_tasks += '\\n'\n",
    "            output += sol_line_tasks\n",
    "            output += sol_line\n",
    "\n",
    "        # Finally print the solution found.\n",
    "        print('Optimal Schedule Length: %i' % solver.ObjectiveValue())\n",
    "        print(output)\n",
    "        \n",
    "        print('Status = %s' % solver.StatusName(status))\n",
    "\n"
   ]
  },
  {
   "cell_type": "markdown",
   "metadata": {},
   "source": [
    "## **2) Model Results**"
   ]
  },
  {
   "cell_type": "markdown",
   "metadata": {},
   "source": [
    "### **2a) Google OR-Tools Job Shop Example**\n",
    "\n",
    "https://developers.google.com/optimization/scheduling/job_shop"
   ]
  },
  {
   "cell_type": "markdown",
   "metadata": {},
   "source": [
    "**First, we reproduce the example results from the Google OR-Tools guide.**"
   ]
  },
  {
   "cell_type": "markdown",
   "metadata": {},
   "source": [
    "**Input data:**"
   ]
  },
  {
   "cell_type": "code",
   "execution_count": 2,
   "metadata": {},
   "outputs": [],
   "source": [
    "jobsA = [[(0, 3), (1, 2), (2, 2)],  # Job0\n",
    "         [(0, 2), (2, 1), (1, 4)],  # Job1\n",
    "         [(1, 4), (2, 3)]           # Job2\n",
    "        ]\n",
    "\n",
    "# task = (machine_id, processing_time)"
   ]
  },
  {
   "cell_type": "markdown",
   "metadata": {},
   "source": [
    "**Solve model:**"
   ]
  },
  {
   "cell_type": "code",
   "execution_count": 5,
   "metadata": {},
   "outputs": [
    {
     "name": "stdout",
     "output_type": "stream",
     "text": [
      "Optimal Schedule Length: 11\n",
      "Machine 0: job_0_0   job_1_0   \n",
      "           [0,3]     [3,5]     \n",
      "Machine 1: job_2_0   job_0_1   job_1_2   \n",
      "           [0,4]     [4,6]     [7,11]    \n",
      "Machine 2: job_1_1   job_0_2   job_2_1   \n",
      "           [5,6]     [6,8]     [8,11]    \n",
      "\n",
      "Status = OPTIMAL\n"
     ]
    }
   ],
   "source": [
    "MinimalJobshopSat(jobsA)"
   ]
  },
  {
   "cell_type": "markdown",
   "metadata": {},
   "source": [
    "**The Gantt diagram to this solution:** https://developers.google.com/optimization/scheduling/job_shop#one_solution"
   ]
  },
  {
   "cell_type": "markdown",
   "metadata": {},
   "source": [
    "### **2b) Produktions- und Logistikmanagement**\n",
    "\n",
    "#### **Übung 7, Aufgabe 1:**"
   ]
  },
  {
   "cell_type": "code",
   "execution_count": 6,
   "metadata": {},
   "outputs": [],
   "source": [
    "jobsB = [[(0, 5), (1, 4)],  # A, 0\n",
    "         [(0, 2), (1, 1)],  # B, 1\n",
    "         [(1, 3)],          # C, 2         \n",
    "         [(1, 4), (0, 1)],  # D, 3         \n",
    "         [(0, 3), (1, 4)],  # E, 4\n",
    "         [(0, 2), (1, 4)],  # F, 5         \n",
    "         [(1, 1)],          # G, 6\n",
    "         [(1, 2)],          # H, 7         \n",
    "         [(1, 2), (0, 4)],  # I, 8\n",
    "         [(1, 3), (0, 3)]]  # J, 9\n",
    "\n",
    "# task = (machine_id, processing_time)"
   ]
  },
  {
   "cell_type": "markdown",
   "metadata": {},
   "source": [
    "**Solve model:**"
   ]
  },
  {
   "cell_type": "code",
   "execution_count": 7,
   "metadata": {},
   "outputs": [
    {
     "name": "stdout",
     "output_type": "stream",
     "text": [
      "Optimal Schedule Length: 28\n",
      "Machine 0: job_0_0   job_1_0   job_4_0   job_5_0   job_3_1   job_8_1   job_9_1   \n",
      "           [0,5]     [5,7]     [7,10]    [10,12]   [12,13]   [21,25]   [25,28]   \n",
      "Machine 1: job_2_0   job_6_0   job_3_0   job_1_1   job_7_0   job_4_1   job_5_1   job_8_0   job_9_0   job_0_1   \n",
      "           [0,3]     [3,4]     [4,8]     [8,9]     [9,11]    [11,15]   [15,19]   [19,21]   [21,24]   [24,28]   \n",
      "\n",
      "Status = OPTIMAL\n"
     ]
    }
   ],
   "source": [
    "MinimalJobshopSat(jobsB)"
   ]
  },
  {
   "cell_type": "markdown",
   "metadata": {},
   "source": [
    "**Comparison of mixed-integer formulation and Jackson rule: We obtain the same optimal makespan of 28 time units, but not the same schedule!**"
   ]
  },
  {
   "cell_type": "markdown",
   "metadata": {},
   "source": [
    "### **2c) Runtime Analysis**"
   ]
  },
  {
   "cell_type": "markdown",
   "metadata": {},
   "source": [
    "**Finally, we evaluate the time required to solve the job shop problem with a larger number of machines and jobs.**\n",
    "\n",
    "**First, we define a function that generates a random shop with m Machines and j Jobs:**"
   ]
  },
  {
   "cell_type": "code",
   "execution_count": 8,
   "metadata": {},
   "outputs": [],
   "source": [
    "import random\n",
    "\n",
    "def RandomJobShop(NrMachines, NrJobs):\n",
    "    \n",
    "    Machines = [m for m in range(0, NrMachines)]\n",
    "    Jobs = [j for j in range(0, NrJobs)]\n",
    "    \n",
    "    JobShop = []\n",
    "    \n",
    "    maxTime = 100 # maximum random processing time\n",
    "    \n",
    "    for j in Jobs:\n",
    "        Sequence = random.sample(range(0, NrMachines), NrMachines)\n",
    "        Times = random.sample(range(0, maxTime), NrMachines)\n",
    "        Tasks = []        \n",
    "        for m in Machines:\n",
    "            Tasks.append((Sequence[m], Times[m]))\n",
    "            \n",
    "        JobShop.append(Tasks)\n",
    "    \n",
    "    return JobShop"
   ]
  },
  {
   "cell_type": "markdown",
   "metadata": {},
   "source": [
    "**Example: Random shop with 2 machines and 4 jobs**"
   ]
  },
  {
   "cell_type": "code",
   "execution_count": 9,
   "metadata": {},
   "outputs": [
    {
     "name": "stdout",
     "output_type": "stream",
     "text": [
      "[[(1, 67), (0, 20)], [(0, 61), (1, 39)], [(1, 74), (0, 16)], [(1, 57), (0, 11)]]\n"
     ]
    }
   ],
   "source": [
    "print(RandomJobShop(2,4))"
   ]
  },
  {
   "cell_type": "code",
   "execution_count": null,
   "metadata": {},
   "outputs": [],
   "source": []
  },
  {
   "cell_type": "markdown",
   "metadata": {},
   "source": [
    "**And now we check at which number of jobs (with j=m) we hit a maximum acceptable solution time T:**"
   ]
  },
  {
   "cell_type": "code",
   "execution_count": 20,
   "metadata": {},
   "outputs": [],
   "source": [
    "T = 30 # threshold for solution time, in seconds\n",
    "\n",
    "import pandas as pd\n",
    "import time\n",
    "import io\n",
    "from contextlib import redirect_stdout\n",
    "\n",
    "Iterations = pd.DataFrame()\n",
    "time_solve = 0\n",
    "\n",
    "k = 1   # iterations, starting with 1\n",
    "m = 2   # machines, starting with 2 \n",
    "j = 2   # jobs, starting with 2\n",
    "\n",
    "trap = io.StringIO()\n",
    "\n",
    "while time_solve < T:\n",
    "    \n",
    "    time_start = time.process_time()\n",
    "    with redirect_stdout(trap): # suppress text output of function MinimalJobshopSat\n",
    "        MinimalJobshopSat(RandomJobShop(m,j))\n",
    "    time_solve = time.process_time()-time_start\n",
    "    \n",
    "    Iterations.loc[k, 'm'] = m\n",
    "    Iterations.loc[k, 'j'] = j\n",
    "    Iterations.loc[k, 't'] = time_solve\n",
    "    \n",
    "    k += 1\n",
    "    m += 1\n",
    "    j += 1\n",
    "    "
   ]
  },
  {
   "cell_type": "code",
   "execution_count": 21,
   "metadata": {},
   "outputs": [
    {
     "data": {
      "text/html": [
       "<div>\n",
       "<style scoped>\n",
       "    .dataframe tbody tr th:only-of-type {\n",
       "        vertical-align: middle;\n",
       "    }\n",
       "\n",
       "    .dataframe tbody tr th {\n",
       "        vertical-align: top;\n",
       "    }\n",
       "\n",
       "    .dataframe thead th {\n",
       "        text-align: right;\n",
       "    }\n",
       "</style>\n",
       "<table border=\"1\" class=\"dataframe\">\n",
       "  <thead>\n",
       "    <tr style=\"text-align: right;\">\n",
       "      <th></th>\n",
       "      <th>m</th>\n",
       "      <th>j</th>\n",
       "      <th>t</th>\n",
       "    </tr>\n",
       "  </thead>\n",
       "  <tbody>\n",
       "    <tr>\n",
       "      <td>9</td>\n",
       "      <td>10.0</td>\n",
       "      <td>10.0</td>\n",
       "      <td>0.906250</td>\n",
       "    </tr>\n",
       "    <tr>\n",
       "      <td>10</td>\n",
       "      <td>11.0</td>\n",
       "      <td>11.0</td>\n",
       "      <td>1.718750</td>\n",
       "    </tr>\n",
       "    <tr>\n",
       "      <td>11</td>\n",
       "      <td>12.0</td>\n",
       "      <td>12.0</td>\n",
       "      <td>2.750000</td>\n",
       "    </tr>\n",
       "    <tr>\n",
       "      <td>12</td>\n",
       "      <td>13.0</td>\n",
       "      <td>13.0</td>\n",
       "      <td>7.203125</td>\n",
       "    </tr>\n",
       "    <tr>\n",
       "      <td>13</td>\n",
       "      <td>14.0</td>\n",
       "      <td>14.0</td>\n",
       "      <td>66.468750</td>\n",
       "    </tr>\n",
       "  </tbody>\n",
       "</table>\n",
       "</div>"
      ],
      "text/plain": [
       "       m     j          t\n",
       "9   10.0  10.0   0.906250\n",
       "10  11.0  11.0   1.718750\n",
       "11  12.0  12.0   2.750000\n",
       "12  13.0  13.0   7.203125\n",
       "13  14.0  14.0  66.468750"
      ]
     },
     "execution_count": 21,
     "metadata": {},
     "output_type": "execute_result"
    }
   ],
   "source": [
    "Iterations.tail()"
   ]
  },
  {
   "cell_type": "code",
   "execution_count": 22,
   "metadata": {},
   "outputs": [
    {
     "data": {
      "text/plain": [
       "Text(0, 0.5, 'Solution time (seconds)')"
      ]
     },
     "execution_count": 22,
     "metadata": {},
     "output_type": "execute_result"
    },
    {
     "data": {
      "image/png": "[encoded data removed]",
      "text/plain": [
       "<Figure size 432x288 with 1 Axes>"
      ]
     },
     "metadata": {
      "needs_background": "light"
     },
     "output_type": "display_data"
    }
   ],
   "source": [
    "ax = Iterations.plot(x='j', y='t')\n",
    "\n",
    "ax.set_xlabel(\"Number of jobs (here:m=j)\")\n",
    "ax.set_ylabel(\"Solution time (seconds)\")"
   ]
  },
  {
   "cell_type": "code",
   "execution_count": null,
   "metadata": {},
   "outputs": [],
   "source": []
  }
 ],
 "metadata": {
  "kernelspec": {
   "display_name": "Python 3",
   "language": "python",
   "name": "python3"
  },
  "language_info": {
   "codemirror_mode": {
    "name": "ipython",
    "version": 3
   },
   "file_extension": ".py",
   "mimetype": "text/x-python",
   "name": "python",
   "nbconvert_exporter": "python",
   "pygments_lexer": "ipython3",
   "version": "3.7.3"
  }
 },
 "nbformat": 4,
 "nbformat_minor": 2
}
